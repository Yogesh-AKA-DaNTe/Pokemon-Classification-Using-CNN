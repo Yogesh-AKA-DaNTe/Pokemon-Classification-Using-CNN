{
  "nbformat": 4,
  "nbformat_minor": 0,
  "metadata": {
    "colab": {
      "name": "Pokémon_Classification_Using_CNN.ipynb",
      "provenance": [],
      "collapsed_sections": []
    },
    "kernelspec": {
      "name": "python3",
      "display_name": "Python 3"
    },
    "language_info": {
      "name": "python"
    }
  },
  "cells": [
    {
      "cell_type": "code",
      "execution_count": 1,
      "metadata": {
        "colab": {
          "base_uri": "https://localhost:8080/"
        },
        "id": "zlJ9P56Ka2k-",
        "outputId": "03b65925-8150-40e0-c370-6d799df8052d"
      },
      "outputs": [
        {
          "output_type": "stream",
          "name": "stdout",
          "text": [
            "Mounted at /content/Drive\n"
          ]
        }
      ],
      "source": [
        "# Importing Necessary Libraries\n",
        "\n",
        "import os\n",
        "import cv2\n",
        "import numpy as np\n",
        "import matplotlib.pyplot as plt\n",
        "from keras import models, layers\n",
        "\n",
        "# Mounting Google Drive for Data\n",
        "\n",
        "from google.colab import drive\n",
        "drive.mount('/content/Drive')"
      ]
    },
    {
      "cell_type": "code",
      "source": [
        "# Setting Data Directories\n",
        "\n",
        "train_dir = '/content/Drive/MyDrive/StartersSample/Train'\n",
        "test_dir = '/content/Drive/MyDrive/StartersSample/Test'\n",
        "\n",
        "# Getting the List of Categories\n",
        "\n",
        "categories = sorted(os.listdir(train_dir))\n",
        "num_classes = len(categories)\n",
        "print('Number of Target Classes:', num_classes)\n",
        "print(list(enumerate(categories)))"
      ],
      "metadata": {
        "colab": {
          "base_uri": "https://localhost:8080/"
        },
        "id": "HrZtBMsLbvbQ",
        "outputId": "e721da58-5f96-4fff-8f45-2623fbb1f671"
      },
      "execution_count": 2,
      "outputs": [
        {
          "output_type": "stream",
          "name": "stdout",
          "text": [
            "Number of Target Classes: 3\n",
            "[(0, 'Bulbasaur'), (1, 'Charmander'), (2, 'Squirtle')]\n"
          ]
        }
      ]
    },
    {
      "cell_type": "code",
      "source": [
        "# Creating Training and Testing Data\n",
        "\n",
        "training_data = []\n",
        "testing_data = []\n",
        "\n",
        "count = 0\n",
        "\n",
        "def create_training_data():\n",
        "  for category in categories:\n",
        "    global count\n",
        "    path = os.path.join(train_dir, category)\n",
        "    num_class = categories.index(category)\n",
        "    for img in sorted(os.listdir(path)):\n",
        "      img_array = cv2.imread(os.path.join(path, img))\n",
        "      count = count + 1\n",
        "      print(\"Images Currently Processed: \", count)\n",
        "      rbg_img_array = cv2.cvtColor(img_array, cv2.COLOR_BGR2RGB)\n",
        "      resized_array = cv2.resize(rbg_img_array, (64,64))\n",
        "      training_data.append([resized_array, num_class])\n",
        "\n",
        "def create_testing_data():\n",
        "  for category in categories:\n",
        "    global count\n",
        "    path = os.path.join(test_dir, category)\n",
        "    num_class = categories.index(category)\n",
        "    for img in sorted(os.listdir(path)):\n",
        "      img_array = cv2.imread(os.path.join(path, img))\n",
        "      count = count + 1\n",
        "      print(\"Images Currently Processed: \", count)\n",
        "      rbg_img_array = cv2.cvtColor(img_array, cv2.COLOR_BGR2RGB)\n",
        "      resized_array = cv2.resize(rbg_img_array, (64,64))\n",
        "      testing_data.append([resized_array, num_class])\n",
        "\n",
        "create_training_data()\n",
        "create_testing_data()"
      ],
      "metadata": {
        "id": "vFzCE3GjcJWC",
        "colab": {
          "base_uri": "https://localhost:8080/"
        },
        "outputId": "e9aa58df-b870-4bee-c84f-17572b0e65d2"
      },
      "execution_count": 3,
      "outputs": [
        {
          "output_type": "stream",
          "name": "stdout",
          "text": [
            "Images Currently Processed:  1\n",
            "Images Currently Processed:  2\n",
            "Images Currently Processed:  3\n",
            "Images Currently Processed:  4\n",
            "Images Currently Processed:  5\n",
            "Images Currently Processed:  6\n",
            "Images Currently Processed:  7\n",
            "Images Currently Processed:  8\n",
            "Images Currently Processed:  9\n",
            "Images Currently Processed:  10\n",
            "Images Currently Processed:  11\n",
            "Images Currently Processed:  12\n",
            "Images Currently Processed:  13\n",
            "Images Currently Processed:  14\n",
            "Images Currently Processed:  15\n",
            "Images Currently Processed:  16\n",
            "Images Currently Processed:  17\n",
            "Images Currently Processed:  18\n",
            "Images Currently Processed:  19\n",
            "Images Currently Processed:  20\n",
            "Images Currently Processed:  21\n",
            "Images Currently Processed:  22\n",
            "Images Currently Processed:  23\n",
            "Images Currently Processed:  24\n",
            "Images Currently Processed:  25\n",
            "Images Currently Processed:  26\n",
            "Images Currently Processed:  27\n",
            "Images Currently Processed:  28\n",
            "Images Currently Processed:  29\n",
            "Images Currently Processed:  30\n",
            "Images Currently Processed:  31\n",
            "Images Currently Processed:  32\n",
            "Images Currently Processed:  33\n",
            "Images Currently Processed:  34\n",
            "Images Currently Processed:  35\n",
            "Images Currently Processed:  36\n",
            "Images Currently Processed:  37\n",
            "Images Currently Processed:  38\n",
            "Images Currently Processed:  39\n",
            "Images Currently Processed:  40\n",
            "Images Currently Processed:  41\n",
            "Images Currently Processed:  42\n",
            "Images Currently Processed:  43\n",
            "Images Currently Processed:  44\n",
            "Images Currently Processed:  45\n",
            "Images Currently Processed:  46\n",
            "Images Currently Processed:  47\n",
            "Images Currently Processed:  48\n",
            "Images Currently Processed:  49\n",
            "Images Currently Processed:  50\n",
            "Images Currently Processed:  51\n",
            "Images Currently Processed:  52\n",
            "Images Currently Processed:  53\n",
            "Images Currently Processed:  54\n",
            "Images Currently Processed:  55\n",
            "Images Currently Processed:  56\n",
            "Images Currently Processed:  57\n",
            "Images Currently Processed:  58\n",
            "Images Currently Processed:  59\n",
            "Images Currently Processed:  60\n",
            "Images Currently Processed:  61\n",
            "Images Currently Processed:  62\n",
            "Images Currently Processed:  63\n",
            "Images Currently Processed:  64\n",
            "Images Currently Processed:  65\n",
            "Images Currently Processed:  66\n",
            "Images Currently Processed:  67\n",
            "Images Currently Processed:  68\n",
            "Images Currently Processed:  69\n",
            "Images Currently Processed:  70\n",
            "Images Currently Processed:  71\n",
            "Images Currently Processed:  72\n",
            "Images Currently Processed:  73\n",
            "Images Currently Processed:  74\n",
            "Images Currently Processed:  75\n",
            "Images Currently Processed:  76\n",
            "Images Currently Processed:  77\n",
            "Images Currently Processed:  78\n",
            "Images Currently Processed:  79\n",
            "Images Currently Processed:  80\n",
            "Images Currently Processed:  81\n",
            "Images Currently Processed:  82\n",
            "Images Currently Processed:  83\n",
            "Images Currently Processed:  84\n",
            "Images Currently Processed:  85\n",
            "Images Currently Processed:  86\n",
            "Images Currently Processed:  87\n",
            "Images Currently Processed:  88\n",
            "Images Currently Processed:  89\n",
            "Images Currently Processed:  90\n",
            "Images Currently Processed:  91\n",
            "Images Currently Processed:  92\n",
            "Images Currently Processed:  93\n",
            "Images Currently Processed:  94\n",
            "Images Currently Processed:  95\n",
            "Images Currently Processed:  96\n",
            "Images Currently Processed:  97\n",
            "Images Currently Processed:  98\n",
            "Images Currently Processed:  99\n",
            "Images Currently Processed:  100\n",
            "Images Currently Processed:  101\n",
            "Images Currently Processed:  102\n",
            "Images Currently Processed:  103\n",
            "Images Currently Processed:  104\n",
            "Images Currently Processed:  105\n",
            "Images Currently Processed:  106\n",
            "Images Currently Processed:  107\n",
            "Images Currently Processed:  108\n",
            "Images Currently Processed:  109\n",
            "Images Currently Processed:  110\n",
            "Images Currently Processed:  111\n",
            "Images Currently Processed:  112\n",
            "Images Currently Processed:  113\n",
            "Images Currently Processed:  114\n",
            "Images Currently Processed:  115\n",
            "Images Currently Processed:  116\n",
            "Images Currently Processed:  117\n",
            "Images Currently Processed:  118\n",
            "Images Currently Processed:  119\n",
            "Images Currently Processed:  120\n",
            "Images Currently Processed:  121\n",
            "Images Currently Processed:  122\n",
            "Images Currently Processed:  123\n",
            "Images Currently Processed:  124\n",
            "Images Currently Processed:  125\n",
            "Images Currently Processed:  126\n",
            "Images Currently Processed:  127\n",
            "Images Currently Processed:  128\n",
            "Images Currently Processed:  129\n",
            "Images Currently Processed:  130\n",
            "Images Currently Processed:  131\n",
            "Images Currently Processed:  132\n",
            "Images Currently Processed:  133\n",
            "Images Currently Processed:  134\n",
            "Images Currently Processed:  135\n",
            "Images Currently Processed:  136\n",
            "Images Currently Processed:  137\n",
            "Images Currently Processed:  138\n",
            "Images Currently Processed:  139\n",
            "Images Currently Processed:  140\n",
            "Images Currently Processed:  141\n",
            "Images Currently Processed:  142\n",
            "Images Currently Processed:  143\n",
            "Images Currently Processed:  144\n"
          ]
        }
      ]
    },
    {
      "cell_type": "code",
      "source": [
        "# Creating Training and Testing Numpy Arrays\n",
        "\n",
        "x_train = []\n",
        "y_train = []\n",
        "x_test = []\n",
        "y_test = []\n",
        "\n",
        "for features, label in training_data:\n",
        "  x_train.append(features)\n",
        "  y_train.append(label)\n",
        "\n",
        "for features, label in testing_data:\n",
        "  x_test.append(features)\n",
        "  y_test.append(label)\n",
        "\n",
        "x_train = np.array(x_train)\n",
        "y_train = np.array(y_train)\n",
        "x_test = np.array(x_test)\n",
        "y_test = np.array(y_test)\n",
        "\n",
        "print(\"Training Data Shape: \", x_train.shape)\n",
        "print(\"Testing Data Shape: \", x_test.shape)\n",
        "print(\"Training Label Shape: \", y_train.shape)\n",
        "print(\"Testing Label Shape: \", y_test.shape)"
      ],
      "metadata": {
        "id": "31vpk76_cydP",
        "colab": {
          "base_uri": "https://localhost:8080/"
        },
        "outputId": "9ffdc436-35d6-4df0-bd1d-2a883f77a2cf"
      },
      "execution_count": 4,
      "outputs": [
        {
          "output_type": "stream",
          "name": "stdout",
          "text": [
            "Training Data Shape:  (108, 64, 64, 3)\n",
            "Testing Data Shape:  (36, 64, 64, 3)\n",
            "Training Label Shape:  (108,)\n",
            "Testing Label Shape:  (36,)\n"
          ]
        }
      ]
    },
    {
      "cell_type": "code",
      "source": [
        "# Normalizing\n",
        "\n",
        "x_train = x_train / 255\n",
        "x_test = x_test / 255\n",
        "\n",
        "# Plotting the first entry\n",
        "\n",
        "def plot_sample(X, Y, index):\n",
        "  plt.figure(figsize = (15,2))\n",
        "  plt.imshow(X[index])\n",
        "  plt.xlabel(categories[Y[index]])\n",
        "\n",
        "plot_sample(x_train, y_train, 0)"
      ],
      "metadata": {
        "id": "0528QWbUdDcw",
        "colab": {
          "base_uri": "https://localhost:8080/",
          "height": 174
        },
        "outputId": "f3086e9f-cb8e-4c3f-e7eb-3e46f5d99704"
      },
      "execution_count": 5,
      "outputs": [
        {
          "output_type": "display_data",
          "data": {
            "text/plain": [
              "<Figure size 1080x144 with 1 Axes>"
            ],
            "image/png": "[encoded data removed]"
          },
          "metadata": {
            "needs_background": "light"
          }
        }
      ]
    },
    {
      "cell_type": "code",
      "source": [
        "# Creating and Compiling CNN Model\n",
        "\n",
        "cnn = models.Sequential([\n",
        "                         # CNN Layers\n",
        "                         layers.Conv2D(filters = 128, kernel_size = (3,3), activation = 'relu', input_shape = (64,64,3)),\n",
        "                         layers.MaxPooling2D((2,2)),\n",
        "                         layers.Conv2D(filters = 128, kernel_size = (3,3), activation = 'relu'),\n",
        "                         layers.MaxPooling2D((2,2)),\n",
        "                         layers.BatchNormalization(),\n",
        "                         layers.Conv2D(filters = 128, kernel_size = (3,3), strides = (2,2), activation = 'relu'),\n",
        "                         layers.MaxPooling2D((2,2)),\n",
        "                         # Dense Layers\n",
        "                         layers.Flatten(),\n",
        "                         layers.Dropout(0.2),\n",
        "                         layers.Dense(1024, activation = 'relu'),\n",
        "                         layers.Dense(512, activation = 'relu'),\n",
        "                         layers.Dense(num_classes, activation = 'softmax')\n",
        "])\n",
        "\n",
        "cnn.compile(optimizer = 'adam', loss = 'sparse_categorical_crossentropy', metrics = ['accuracy'])\n",
        "cnn.summary()"
      ],
      "metadata": {
        "id": "P0yyHE8AdkP9",
        "colab": {
          "base_uri": "https://localhost:8080/"
        },
        "outputId": "4b104986-214b-4ebf-c5b1-c4be2c8cd524"
      },
      "execution_count": 14,
      "outputs": [
        {
          "output_type": "stream",
          "name": "stdout",
          "text": [
            "Model: \"sequential_2\"\n",
            "_________________________________________________________________\n",
            " Layer (type)                Output Shape              Param #   \n",
            "=================================================================\n",
            " conv2d_6 (Conv2D)           (None, 62, 62, 128)       3584      \n",
            "                                                                 \n",
            " max_pooling2d_6 (MaxPooling  (None, 31, 31, 128)      0         \n",
            " 2D)                                                             \n",
            "                                                                 \n",
            " conv2d_7 (Conv2D)           (None, 29, 29, 128)       147584    \n",
            "                                                                 \n",
            " max_pooling2d_7 (MaxPooling  (None, 14, 14, 128)      0         \n",
            " 2D)                                                             \n",
            "                                                                 \n",
            " batch_normalization_2 (Batc  (None, 14, 14, 128)      512       \n",
            " hNormalization)                                                 \n",
            "                                                                 \n",
            " conv2d_8 (Conv2D)           (None, 6, 6, 128)         147584    \n",
            "                                                                 \n",
            " max_pooling2d_8 (MaxPooling  (None, 3, 3, 128)        0         \n",
            " 2D)                                                             \n",
            "                                                                 \n",
            " flatten_2 (Flatten)         (None, 1152)              0         \n",
            "                                                                 \n",
            " dropout_2 (Dropout)         (None, 1152)              0         \n",
            "                                                                 \n",
            " dense_6 (Dense)             (None, 1024)              1180672   \n",
            "                                                                 \n",
            " dense_7 (Dense)             (None, 512)               524800    \n",
            "                                                                 \n",
            " dense_8 (Dense)             (None, 3)                 1539      \n",
            "                                                                 \n",
            "=================================================================\n",
            "Total params: 2,006,275\n",
            "Trainable params: 2,006,019\n",
            "Non-trainable params: 256\n",
            "_________________________________________________________________\n"
          ]
        }
      ]
    },
    {
      "cell_type": "code",
      "source": [
        "# Fitting the model with Training Data\n",
        "\n",
        "cnn.fit(x_train, y_train, epochs = 20)"
      ],
      "metadata": {
        "id": "Uwgr5QTydm_c",
        "colab": {
          "base_uri": "https://localhost:8080/"
        },
        "outputId": "2fbcdab7-0a81-413d-f23c-239958ddc346"
      },
      "execution_count": 15,
      "outputs": [
        {
          "output_type": "stream",
          "name": "stdout",
          "text": [
            "Epoch 1/20\n",
            "4/4 [==============================] - 3s 594ms/step - loss: 1.9383 - accuracy: 0.3981\n",
            "Epoch 2/20\n",
            "4/4 [==============================] - 2s 581ms/step - loss: 0.3737 - accuracy: 0.8241\n",
            "Epoch 3/20\n",
            "4/4 [==============================] - 2s 573ms/step - loss: 0.1636 - accuracy: 0.9352\n",
            "Epoch 4/20\n",
            "4/4 [==============================] - 2s 577ms/step - loss: 0.0952 - accuracy: 0.9537\n",
            "Epoch 5/20\n",
            "4/4 [==============================] - 2s 587ms/step - loss: 0.0760 - accuracy: 0.9722\n",
            "Epoch 6/20\n",
            "4/4 [==============================] - 2s 578ms/step - loss: 0.0096 - accuracy: 1.0000\n",
            "Epoch 7/20\n",
            "4/4 [==============================] - 2s 582ms/step - loss: 0.0134 - accuracy: 1.0000\n",
            "Epoch 8/20\n",
            "4/4 [==============================] - 2s 576ms/step - loss: 0.0296 - accuracy: 0.9907\n",
            "Epoch 9/20\n",
            "4/4 [==============================] - 2s 576ms/step - loss: 0.0355 - accuracy: 0.9815\n",
            "Epoch 10/20\n",
            "4/4 [==============================] - 2s 579ms/step - loss: 0.0346 - accuracy: 0.9815\n",
            "Epoch 11/20\n",
            "4/4 [==============================] - 2s 581ms/step - loss: 0.0096 - accuracy: 0.9907\n",
            "Epoch 12/20\n",
            "4/4 [==============================] - 2s 574ms/step - loss: 0.0360 - accuracy: 0.9815\n",
            "Epoch 13/20\n",
            "4/4 [==============================] - 2s 584ms/step - loss: 0.0134 - accuracy: 0.9907\n",
            "Epoch 14/20\n",
            "4/4 [==============================] - 2s 575ms/step - loss: 0.0680 - accuracy: 0.9722\n",
            "Epoch 15/20\n",
            "4/4 [==============================] - 2s 577ms/step - loss: 0.0012 - accuracy: 1.0000\n",
            "Epoch 16/20\n",
            "4/4 [==============================] - 2s 578ms/step - loss: 0.0960 - accuracy: 0.9722\n",
            "Epoch 17/20\n",
            "4/4 [==============================] - 2s 588ms/step - loss: 0.0066 - accuracy: 1.0000\n",
            "Epoch 18/20\n",
            "4/4 [==============================] - 2s 585ms/step - loss: 0.0658 - accuracy: 0.9815\n",
            "Epoch 19/20\n",
            "4/4 [==============================] - 2s 578ms/step - loss: 0.0095 - accuracy: 0.9907\n",
            "Epoch 20/20\n",
            "4/4 [==============================] - 2s 573ms/step - loss: 0.0481 - accuracy: 0.9815\n"
          ]
        },
        {
          "output_type": "execute_result",
          "data": {
            "text/plain": [
              "<keras.callbacks.History at 0x7f7d5a326850>"
            ]
          },
          "metadata": {},
          "execution_count": 15
        }
      ]
    },
    {
      "cell_type": "code",
      "source": [
        "# Calculating Loss and Accuracy\n",
        "\n",
        "(loss, accuracy) = cnn.evaluate(x_test, y_test)\n",
        "print(\"Loss = \", loss)\n",
        "print(\"Accuracy = \", accuracy)"
      ],
      "metadata": {
        "id": "8dFXB0xGd2XT",
        "colab": {
          "base_uri": "https://localhost:8080/"
        },
        "outputId": "5249ec5c-0842-4d7e-d108-811b809974df"
      },
      "execution_count": 16,
      "outputs": [
        {
          "output_type": "stream",
          "name": "stdout",
          "text": [
            "2/2 [==============================] - 0s 29ms/step - loss: 0.2027 - accuracy: 0.9444\n",
            "Loss =  0.2026762217283249\n",
            "Accuracy =  0.9444444179534912\n"
          ]
        }
      ]
    },
    {
      "cell_type": "code",
      "source": [
        "# Making Predictions\n",
        "\n",
        "predictions = cnn.predict(x_test)\n",
        "predictions = [np.argmax(element) for element in predictions]\n",
        "predictions = np.array(predictions)\n",
        "\n",
        "print(\"Predictions of First 5 Test Inputs: \", predictions[:5])\n",
        "print(\"Actual Classes of First 5 Test Inputs: \", y_test[:5])"
      ],
      "metadata": {
        "id": "MaaAwY3dd9oq",
        "colab": {
          "base_uri": "https://localhost:8080/"
        },
        "outputId": "345c1962-fcfa-429a-9ffe-f05ae26492af"
      },
      "execution_count": 18,
      "outputs": [
        {
          "output_type": "stream",
          "name": "stdout",
          "text": [
            "Predictions of First 5 Test Inputs:  [0 0 2 0 0]\n",
            "Actual Classes of First 5 Test Inputs:  [0 0 0 0 0]\n"
          ]
        }
      ]
    },
    {
      "cell_type": "code",
      "source": [
        "# Saving the Model for Offline Usage\n",
        "\n",
        "cnn.save(\"Pokémon_Model.h5\")"
      ],
      "metadata": {
        "id": "n5QMtxtCeBlP"
      },
      "execution_count": 19,
      "outputs": []
    }
  ]
}